{
 "cells": [
  {
   "cell_type": "code",
   "execution_count": 1,
   "id": "21fba1b1",
   "metadata": {},
   "outputs": [],
   "source": [
    "import os"
   ]
  },
  {
   "cell_type": "code",
   "execution_count": 2,
   "id": "5f1f9030",
   "metadata": {},
   "outputs": [
    {
     "data": {
      "text/plain": [
       "['.ipynb_checkpoints',\n",
       " 'BlurbGenreCollection_EN_dev.txt',\n",
       " 'BlurbGenreCollection_EN_test.txt',\n",
       " 'BlurbGenreCollection_EN_train.txt',\n",
       " 'description.pdf',\n",
       " 'hierarchy.txt',\n",
       " 'README.txt',\n",
       " 'Untitled.ipynb']"
      ]
     },
     "execution_count": 2,
     "metadata": {},
     "output_type": "execute_result"
    }
   ],
   "source": [
    "os.listdir()"
   ]
  },
  {
   "cell_type": "code",
   "execution_count": 3,
   "id": "72e0c061",
   "metadata": {},
   "outputs": [],
   "source": [
    "files = [ 'BlurbGenreCollection_EN_dev.txt',\n",
    " 'BlurbGenreCollection_EN_test.txt',\n",
    " 'BlurbGenreCollection_EN_train.txt',]"
   ]
  },
  {
   "cell_type": "code",
   "execution_count": 4,
   "id": "ded181ea",
   "metadata": {},
   "outputs": [],
   "source": [
    "file = open(\"BlurbGenreCollection_EN_test.txt\", \"r\", encoding=\"utf8\").readlines()"
   ]
  },
  {
   "cell_type": "code",
   "execution_count": 5,
   "id": "aa136374",
   "metadata": {},
   "outputs": [],
   "source": [
    "all_data = []\n",
    "data = \"\"\n",
    "sig = \"\"\n",
    "for i in range(len(file)):\n",
    "    if file[i].startswith(\"<body>\"):\n",
    "        data = file[i]\n",
    "    if file[i].startswith(\"<d0>\"):\n",
    "        sig = file[i]\n",
    "        all_data.append([data, sig])"
   ]
  },
  {
   "cell_type": "code",
   "execution_count": 7,
   "id": "bbe0dad6",
   "metadata": {},
   "outputs": [
    {
     "data": {
      "text/plain": [
       "['<body>TMNT co-creator Kevin Eastman and writer Tom Waltz guide readers through a ground-breaking new origin and into epic tales of courage, loyalty and family as the Turtles and their allies battle for survival against enemies old and new in the dangerous streets and sewers of New York City. Includes TMNT volumes #1–5, which collects the first 20 issues of the ongoing series.</body>\\n',\n",
       " '<d0>Fiction</d0><d1>Graphic Novels & Manga</d1>\\n']"
      ]
     },
     "execution_count": 7,
     "metadata": {},
     "output_type": "execute_result"
    }
   ],
   "source": [
    "all_data[0]"
   ]
  },
  {
   "cell_type": "code",
   "execution_count": 49,
   "id": "7240b79a",
   "metadata": {},
   "outputs": [],
   "source": [
    "all_keys = {}"
   ]
  },
  {
   "cell_type": "code",
   "execution_count": 50,
   "id": "79745a0a",
   "metadata": {},
   "outputs": [],
   "source": [
    "fathers = []\n",
    "sons = []"
   ]
  },
  {
   "cell_type": "code",
   "execution_count": 51,
   "id": "4eb30bb3",
   "metadata": {},
   "outputs": [],
   "source": [
    "labels = open(\"hierarchy.txt\", \"r\", encoding=\"utf8\").readlines()"
   ]
  },
  {
   "cell_type": "code",
   "execution_count": 52,
   "id": "b0ffd805",
   "metadata": {},
   "outputs": [],
   "source": [
    "for line in labels:\n",
    "    if len(line.strip().split(\"\\t\")) == 2:\n",
    "        i, j = line.strip().split(\"\\t\")\n",
    "        fathers.append(i)\n",
    "        sons.append(j)\n",
    "        if i in all_keys:\n",
    "            all_keys[i].append(j)\n",
    "        else:\n",
    "            all_keys[i] = [j]\n",
    "    elif len(line.strip().split(\"\\t\")) == 1:\n",
    "        i = line.strip().split(\"\\t\")[0]\n",
    "        fathers.append(i)\n",
    "        all_keys[i] = []"
   ]
  },
  {
   "cell_type": "code",
   "execution_count": 53,
   "id": "bf450cda",
   "metadata": {
    "collapsed": true
   },
   "outputs": [
    {
     "data": {
      "text/plain": [
       "{'Biography & Memoir': ['Arts & Entertainment Biographies & Memoirs',\n",
       "  'Political Figure Biographies & Memoirs',\n",
       "  'Historical Figure Biographies & Memoirs',\n",
       "  'Literary Figure Biographies & Memoirs'],\n",
       " 'Nonfiction': ['Biography & Memoir',\n",
       "  'Cooking',\n",
       "  'Arts & Entertainment',\n",
       "  'Business',\n",
       "  'Crafts, Home & Garden',\n",
       "  'Games',\n",
       "  'Health & Fitness',\n",
       "  'History',\n",
       "  'Parenting',\n",
       "  'Pets',\n",
       "  'Politics',\n",
       "  'Popular Science',\n",
       "  'Psychology',\n",
       "  'Reference',\n",
       "  'Religion & Philosophy',\n",
       "  'Self-Improvement',\n",
       "  'Sports',\n",
       "  'Travel'],\n",
       " 'Cooking': ['Regional & Ethnic Cooking',\n",
       "  'Cooking Methods',\n",
       "  'Food Memoir & Travel',\n",
       "  'Baking & Desserts',\n",
       "  'Wine & Beverage'],\n",
       " 'Arts & Entertainment': ['Art',\n",
       "  'Design',\n",
       "  'Film',\n",
       "  'Music',\n",
       "  'Performing Arts',\n",
       "  'Photography',\n",
       "  'Writing'],\n",
       " 'Business': ['Economics', 'Management', 'Marketing'],\n",
       " 'Crafts, Home & Garden': ['Crafts & Hobbies', 'Home & Garden', 'Weddings'],\n",
       " 'Health & Fitness': ['Alternative Therapies',\n",
       "  'Diet & Nutrition',\n",
       "  'Exercise',\n",
       "  'Health & Reference'],\n",
       " 'History': ['Military History', 'U.S. History', 'World History'],\n",
       " 'Military History': ['World War II Military History',\n",
       "  'World War I Military History',\n",
       "  '1950 – Present Military History'],\n",
       " 'U.S. History': ['21st Century U.S. History',\n",
       "  '20th Century U.S. History',\n",
       "  '19th Century U.S. History',\n",
       "  'Civil War Period',\n",
       "  'Colonial/Revolutionary Period',\n",
       "  'Native American History'],\n",
       " 'Politics': ['Domestic Politics', 'World Politics'],\n",
       " 'World History': ['African World History',\n",
       "  'Ancient World History',\n",
       "  'Asian World History',\n",
       "  'European World History',\n",
       "  'Latin American World History',\n",
       "  'Middle Eastern World History',\n",
       "  'North American World History'],\n",
       " 'Popular Science': ['Science', 'Technology'],\n",
       " 'Reference': ['Language', 'Test Preparation'],\n",
       " 'Religion & Philosophy': ['Religion', 'Philosophy', 'Bibles'],\n",
       " 'Self-Improvement': ['Beauty',\n",
       "  'Inspiration & Motivation',\n",
       "  'Personal Finance',\n",
       "  'Personal Growth'],\n",
       " 'Travel': ['Travel: Africa',\n",
       "  'Travel: Asia',\n",
       "  'Travel: Australia & Oceania',\n",
       "  'Travel: Caribbean & Mexico',\n",
       "  'Travel: Central & South America',\n",
       "  'Travel: Europe',\n",
       "  'Travel: Middle East',\n",
       "  'Specialty Travel',\n",
       "  'Travel Writing',\n",
       "  'Travel: USA & Canada'],\n",
       " 'Fiction': ['Fantasy',\n",
       "  'Gothic & Horror',\n",
       "  'Graphic Novels & Manga',\n",
       "  'Historical Fiction',\n",
       "  'Literary Fiction',\n",
       "  'Military Fiction',\n",
       "  'Mystery & Suspense',\n",
       "  'Paranormal Fiction',\n",
       "  'Romance',\n",
       "  'Science Fiction',\n",
       "  'Spiritual Fiction',\n",
       "  'Western Fiction',\n",
       "  'Women’s Fiction'],\n",
       " 'Fantasy': ['Contemporary Fantasy',\n",
       "  'Epic Fantasy',\n",
       "  'Fairy Tales',\n",
       "  'Urban Fantasy'],\n",
       " 'Mystery & Suspense': ['Cozy Mysteries',\n",
       "  'Crime Mysteries',\n",
       "  'Espionage Mysteries',\n",
       "  'Noir Mysteries',\n",
       "  'Suspense & Thriller'],\n",
       " 'Romance': ['Contemporary Romance',\n",
       "  'Erotica',\n",
       "  'Historical Romance',\n",
       "  'New Adult Romance',\n",
       "  'Paranormal Romance',\n",
       "  'Regency Romance',\n",
       "  'Suspense Romance',\n",
       "  'Western Romance'],\n",
       " 'Science Fiction': ['Cyber Punk', 'Military Science Fiction', 'Space Opera'],\n",
       " 'Classics': ['Fiction Classics',\n",
       "  'Literary Collections',\n",
       "  'Literary Criticism',\n",
       "  'Nonfiction Classics'],\n",
       " 'Children’s Books': ['Step Into Reading',\n",
       "  'Children’s Middle Grade Books',\n",
       "  'Children’s Activity & Novelty Books',\n",
       "  'Children’s Board Books',\n",
       "  'Children’s Boxed Sets',\n",
       "  'Children’s Chapter Books',\n",
       "  'Childrens Media Tie-In Books',\n",
       "  'Children’s Picture Books'],\n",
       " 'Children’s Middle Grade Books': ['Children’s Middle Grade Mystery & Detective Books',\n",
       "  'Children’s Middle Grade Action & Adventure Books',\n",
       "  'Children’s Middle Grade Fantasy & Magical Books',\n",
       "  'Children’s Middle Grade Historical Books',\n",
       "  'Children’s Middle Grade Sports Books'],\n",
       " 'Teen & Young Adult': ['Teen & Young Adult Action & Adventure',\n",
       "  'Teen & Young Adult Mystery & Suspense',\n",
       "  'Teen & Young Adult Fantasy Fiction',\n",
       "  'Teen & Young Adult Nonfiction',\n",
       "  'Teen & Young Adult Fiction',\n",
       "  'Teen & Young Adult Social Issues',\n",
       "  'Teen & Young Adult Historical Fiction',\n",
       "  'Teen & Young Adult Romance',\n",
       "  'Teen & Young Adult Science Fiction'],\n",
       " 'Humor': [],\n",
       " 'Poetry': []}"
      ]
     },
     "execution_count": 53,
     "metadata": {},
     "output_type": "execute_result"
    }
   ],
   "source": [
    "all_keys"
   ]
  },
  {
   "cell_type": "code",
   "execution_count": 54,
   "id": "95983d2b",
   "metadata": {},
   "outputs": [],
   "source": [
    "roots = []"
   ]
  },
  {
   "cell_type": "code",
   "execution_count": 55,
   "id": "b85535c1",
   "metadata": {},
   "outputs": [],
   "source": [
    "for node in list(set(fathers)):\n",
    "    if node not in sons:\n",
    "        roots.append(node)"
   ]
  },
  {
   "cell_type": "code",
   "execution_count": 58,
   "id": "0fb033ab",
   "metadata": {},
   "outputs": [
    {
     "data": {
      "text/plain": [
       "['Teen & Young Adult',\n",
       " 'Children’s Books',\n",
       " 'Nonfiction',\n",
       " 'Poetry',\n",
       " 'Humor',\n",
       " 'Classics',\n",
       " 'Fiction']"
      ]
     },
     "execution_count": 58,
     "metadata": {},
     "output_type": "execute_result"
    }
   ],
   "source": [
    "roots"
   ]
  },
  {
   "cell_type": "code",
   "execution_count": 59,
   "id": "238d4d26",
   "metadata": {},
   "outputs": [
    {
     "name": "stdout",
     "output_type": "stream",
     "text": [
      "Teen & Young Adult : Teen & Young Adult Action & Adventure\n",
      "Teen & Young Adult : Teen & Young Adult Mystery & Suspense\n",
      "Teen & Young Adult : Teen & Young Adult Fantasy Fiction\n",
      "Teen & Young Adult : Teen & Young Adult Nonfiction\n",
      "Teen & Young Adult : Teen & Young Adult Fiction\n",
      "Teen & Young Adult : Teen & Young Adult Social Issues\n",
      "Teen & Young Adult : Teen & Young Adult Historical Fiction\n",
      "Teen & Young Adult : Teen & Young Adult Romance\n",
      "Teen & Young Adult : Teen & Young Adult Science Fiction\n",
      "Children’s Books : Step Into Reading\n",
      "Children’s Books : Children’s Middle Grade Books : Children’s Middle Grade Mystery & Detective Books\n",
      "Children’s Books : Children’s Middle Grade Books : Children’s Middle Grade Action & Adventure Books\n",
      "Children’s Books : Children’s Middle Grade Books : Children’s Middle Grade Fantasy & Magical Books\n",
      "Children’s Books : Children’s Middle Grade Books : Children’s Middle Grade Historical Books\n",
      "Children’s Books : Children’s Middle Grade Books : Children’s Middle Grade Sports Books\n",
      "Children’s Books : Children’s Activity & Novelty Books\n",
      "Children’s Books : Children’s Board Books\n",
      "Children’s Books : Children’s Boxed Sets\n",
      "Children’s Books : Children’s Chapter Books\n",
      "Children’s Books : Childrens Media Tie-In Books\n",
      "Children’s Books : Children’s Picture Books\n",
      "Nonfiction : Biography & Memoir : Arts & Entertainment Biographies & Memoirs\n",
      "Nonfiction : Biography & Memoir : Political Figure Biographies & Memoirs\n",
      "Nonfiction : Biography & Memoir : Historical Figure Biographies & Memoirs\n",
      "Nonfiction : Biography & Memoir : Literary Figure Biographies & Memoirs\n",
      "Nonfiction : Cooking : Regional & Ethnic Cooking\n",
      "Nonfiction : Cooking : Cooking Methods\n",
      "Nonfiction : Cooking : Food Memoir & Travel\n",
      "Nonfiction : Cooking : Baking & Desserts\n",
      "Nonfiction : Cooking : Wine & Beverage\n",
      "Nonfiction : Arts & Entertainment : Art\n",
      "Nonfiction : Arts & Entertainment : Design\n",
      "Nonfiction : Arts & Entertainment : Film\n",
      "Nonfiction : Arts & Entertainment : Music\n",
      "Nonfiction : Arts & Entertainment : Performing Arts\n",
      "Nonfiction : Arts & Entertainment : Photography\n",
      "Nonfiction : Arts & Entertainment : Writing\n",
      "Nonfiction : Business : Economics\n",
      "Nonfiction : Business : Management\n",
      "Nonfiction : Business : Marketing\n",
      "Nonfiction : Crafts, Home & Garden : Crafts & Hobbies\n",
      "Nonfiction : Crafts, Home & Garden : Home & Garden\n",
      "Nonfiction : Crafts, Home & Garden : Weddings\n",
      "Nonfiction : Games\n",
      "Nonfiction : Health & Fitness : Alternative Therapies\n",
      "Nonfiction : Health & Fitness : Diet & Nutrition\n",
      "Nonfiction : Health & Fitness : Exercise\n",
      "Nonfiction : Health & Fitness : Health & Reference\n",
      "Nonfiction : History : Military History : World War II Military History\n",
      "Nonfiction : History : Military History : World War I Military History\n",
      "Nonfiction : History : Military History : 1950 – Present Military History\n",
      "Nonfiction : History : U.S. History : 21st Century U.S. History\n",
      "Nonfiction : History : U.S. History : 20th Century U.S. History\n",
      "Nonfiction : History : U.S. History : 19th Century U.S. History\n",
      "Nonfiction : History : U.S. History : Civil War Period\n",
      "Nonfiction : History : U.S. History : Colonial/Revolutionary Period\n",
      "Nonfiction : History : U.S. History : Native American History\n",
      "Nonfiction : History : World History : African World History\n",
      "Nonfiction : History : World History : Ancient World History\n",
      "Nonfiction : History : World History : Asian World History\n",
      "Nonfiction : History : World History : European World History\n",
      "Nonfiction : History : World History : Latin American World History\n",
      "Nonfiction : History : World History : Middle Eastern World History\n",
      "Nonfiction : History : World History : North American World History\n",
      "Nonfiction : Parenting\n",
      "Nonfiction : Pets\n",
      "Nonfiction : Politics : Domestic Politics\n",
      "Nonfiction : Politics : World Politics\n",
      "Nonfiction : Popular Science : Science\n",
      "Nonfiction : Popular Science : Technology\n",
      "Nonfiction : Psychology\n",
      "Nonfiction : Reference : Language\n",
      "Nonfiction : Reference : Test Preparation\n",
      "Nonfiction : Religion & Philosophy : Religion\n",
      "Nonfiction : Religion & Philosophy : Philosophy\n",
      "Nonfiction : Religion & Philosophy : Bibles\n",
      "Nonfiction : Self-Improvement : Beauty\n",
      "Nonfiction : Self-Improvement : Inspiration & Motivation\n",
      "Nonfiction : Self-Improvement : Personal Finance\n",
      "Nonfiction : Self-Improvement : Personal Growth\n",
      "Nonfiction : Sports\n",
      "Nonfiction : Travel : Travel: Africa\n",
      "Nonfiction : Travel : Travel: Asia\n",
      "Nonfiction : Travel : Travel: Australia & Oceania\n",
      "Nonfiction : Travel : Travel: Caribbean & Mexico\n",
      "Nonfiction : Travel : Travel: Central & South America\n",
      "Nonfiction : Travel : Travel: Europe\n",
      "Nonfiction : Travel : Travel: Middle East\n",
      "Nonfiction : Travel : Specialty Travel\n",
      "Nonfiction : Travel : Travel Writing\n",
      "Nonfiction : Travel : Travel: USA & Canada\n",
      "Poetry\n",
      "Humor\n",
      "Classics : Fiction Classics\n",
      "Classics : Literary Collections\n",
      "Classics : Literary Criticism\n",
      "Classics : Nonfiction Classics\n",
      "Fiction : Fantasy : Contemporary Fantasy\n",
      "Fiction : Fantasy : Epic Fantasy\n",
      "Fiction : Fantasy : Fairy Tales\n",
      "Fiction : Fantasy : Urban Fantasy\n",
      "Fiction : Gothic & Horror\n",
      "Fiction : Graphic Novels & Manga\n",
      "Fiction : Historical Fiction\n",
      "Fiction : Literary Fiction\n",
      "Fiction : Military Fiction\n",
      "Fiction : Mystery & Suspense : Cozy Mysteries\n",
      "Fiction : Mystery & Suspense : Crime Mysteries\n",
      "Fiction : Mystery & Suspense : Espionage Mysteries\n",
      "Fiction : Mystery & Suspense : Noir Mysteries\n",
      "Fiction : Mystery & Suspense : Suspense & Thriller\n",
      "Fiction : Paranormal Fiction\n",
      "Fiction : Romance : Contemporary Romance\n",
      "Fiction : Romance : Erotica\n",
      "Fiction : Romance : Historical Romance\n",
      "Fiction : Romance : New Adult Romance\n",
      "Fiction : Romance : Paranormal Romance\n",
      "Fiction : Romance : Regency Romance\n",
      "Fiction : Romance : Suspense Romance\n",
      "Fiction : Romance : Western Romance\n",
      "Fiction : Science Fiction : Cyber Punk\n",
      "Fiction : Science Fiction : Military Science Fiction\n",
      "Fiction : Science Fiction : Space Opera\n",
      "Fiction : Spiritual Fiction\n",
      "Fiction : Western Fiction\n",
      "Fiction : Women’s Fiction\n"
     ]
    }
   ],
   "source": [
    "for root in roots:\n",
    "    if all_keys[root] == []:\n",
    "        print(root)\n",
    "    for i in all_keys[root]:\n",
    "        if i not in all_keys:\n",
    "            print(root, \":\", i)\n",
    "        else:\n",
    "            for j in all_keys[i]:\n",
    "                if j not in all_keys:\n",
    "                    print(root, \":\", i, \":\", j)\n",
    "                else:\n",
    "                    for k in all_keys[j]:\n",
    "                        print(root, \":\", i, \":\", j, \":\", k)"
   ]
  },
  {
   "cell_type": "code",
   "execution_count": null,
   "id": "f42b8cb1",
   "metadata": {},
   "outputs": [],
   "source": []
  }
 ],
 "metadata": {
  "kernelspec": {
   "display_name": "Python 3 (ipykernel)",
   "language": "python",
   "name": "python3"
  },
  "language_info": {
   "codemirror_mode": {
    "name": "ipython",
    "version": 3
   },
   "file_extension": ".py",
   "mimetype": "text/x-python",
   "name": "python",
   "nbconvert_exporter": "python",
   "pygments_lexer": "ipython3",
   "version": "3.7.4"
  }
 },
 "nbformat": 4,
 "nbformat_minor": 5
}
